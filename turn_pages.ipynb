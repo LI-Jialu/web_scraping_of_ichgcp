{
 "cells": [
  {
   "cell_type": "code",
   "execution_count": 56,
   "metadata": {},
   "outputs": [],
   "source": [
    "urlss =['https://ichgcp.net/cro-list/country/argentina',\n",
    " 'https://ichgcp.net/cro-list/country/australia',\n",
    " 'https://ichgcp.net/cro-list/country/austria',\n",
    " 'https://ichgcp.net/cro-list/country/belarus',\n",
    " 'https://ichgcp.net/cro-list/country/belgium',\n",
    " 'https://ichgcp.net/cro-list/country/brazil',\n",
    " 'https://ichgcp.net/cro-list/country/bulgaria',\n",
    " 'https://ichgcp.net/cro-list/country/canada',\n",
    " 'https://ichgcp.net/cro-list/country/chile',\n",
    " 'https://ichgcp.net/cro-list/country/china',\n",
    " 'https://ichgcp.net/cro-list/country/colombia',\n",
    " 'https://ichgcp.net/cro-list/country/croatia',\n",
    " 'https://ichgcp.net/cro-list/country/cyprus',\n",
    " 'https://ichgcp.net/cro-list/country/czech_republic',\n",
    " 'https://ichgcp.net/cro-list/country/denmark',\n",
    " 'https://ichgcp.net/cro-list/country/egypt',\n",
    " 'https://ichgcp.net/cro-list/country/estonia',\n",
    " 'https://ichgcp.net/cro-list/country/finland',\n",
    " 'https://ichgcp.net/cro-list/country/france',\n",
    " 'https://ichgcp.net/cro-list/country/georgia',\n",
    " 'https://ichgcp.net/cro-list/country/germany',\n",
    " 'https://ichgcp.net/cro-list/country/greece',\n",
    " 'https://ichgcp.net/cro-list/country/hungary',\n",
    " 'https://ichgcp.net/cro-list/country/india',\n",
    " 'https://ichgcp.net/cro-list/country/indonesia',\n",
    " 'https://ichgcp.net/cro-list/country/iran',\n",
    " 'https://ichgcp.net/cro-list/country/ireland',\n",
    " 'https://ichgcp.net/cro-list/country/israel',\n",
    " 'https://ichgcp.net/cro-list/country/italy',\n",
    " 'https://ichgcp.net/cro-list/country/japan',\n",
    " 'https://ichgcp.net/cro-list/country/jordan',\n",
    " 'https://ichgcp.net/cro-list/country/kazakhstan',\n",
    " 'https://ichgcp.net/cro-list/country/kenya',\n",
    " 'https://ichgcp.net/cro-list/country/latvia',\n",
    " 'https://ichgcp.net/cro-list/country/lebanon',\n",
    " 'https://ichgcp.net/cro-list/country/lithuania',\n",
    " 'https://ichgcp.net/cro-list/country/luxembourg',\n",
    " 'https://ichgcp.net/cro-list/country/macedonia',\n",
    " 'https://ichgcp.net/cro-list/country/malaysia',\n",
    " 'https://ichgcp.net/cro-list/country/mexico',\n",
    " 'https://ichgcp.net/cro-list/country/morocco',\n",
    " 'https://ichgcp.net/cro-list/country/netherlands',\n",
    " 'https://ichgcp.net/cro-list/country/new_zealand',\n",
    " 'https://ichgcp.net/cro-list/country/norway',\n",
    " 'https://ichgcp.net/cro-list/country/pakistan',\n",
    " 'https://ichgcp.net/cro-list/country/peru',\n",
    " 'https://ichgcp.net/cro-list/country/philippines',\n",
    " 'https://ichgcp.net/cro-list/country/poland',\n",
    " 'https://ichgcp.net/cro-list/country/romania',\n",
    " 'https://ichgcp.net/cro-list/country/russia',\n",
    " 'https://ichgcp.net/cro-list/country/senegal',\n",
    " 'https://ichgcp.net/cro-list/country/singapore',\n",
    " 'https://ichgcp.net/cro-list/country/slovakia',\n",
    " 'https://ichgcp.net/cro-list/country/slovenia',\n",
    " 'https://ichgcp.net/cro-list/country/south_africa',\n",
    " 'https://ichgcp.net/cro-list/country/south_korea',\n",
    " 'https://ichgcp.net/cro-list/country/spain',\n",
    " 'https://ichgcp.net/cro-list/country/sweden',\n",
    " 'https://ichgcp.net/cro-list/country/switzerland',\n",
    " 'https://ichgcp.net/cro-list/country/taiwan',\n",
    " 'https://ichgcp.net/cro-list/country/thailand',\n",
    " 'https://ichgcp.net/cro-list/country/turkey',\n",
    " 'https://ichgcp.net/cro-list/country/ukraine',\n",
    " 'https://ichgcp.net/cro-list/country/united_arab_emirates',\n",
    " 'https://ichgcp.net/cro-list/country/uruguay',\n",
    " 'https://ichgcp.net/cro-list/country/usa']"
   ]
  },
  {
   "cell_type": "code",
   "execution_count": 57,
   "metadata": {},
   "outputs": [],
   "source": [
    "urls = ['https://ichgcp.net/cro-list/country/singapore',\n",
    " 'https://ichgcp.net/cro-list/country/slovakia',\n",
    " 'https://ichgcp.net/cro-list/country/slovenia',\n",
    " 'https://ichgcp.net/cro-list/country/south_africa',\n",
    " 'https://ichgcp.net/cro-list/country/south_korea',\n",
    " 'https://ichgcp.net/cro-list/country/spain',\n",
    " 'https://ichgcp.net/cro-list/country/sweden',\n",
    " 'https://ichgcp.net/cro-list/country/switzerland',\n",
    " 'https://ichgcp.net/cro-list/country/taiwan',\n",
    " 'https://ichgcp.net/cro-list/country/thailand',\n",
    " 'https://ichgcp.net/cro-list/country/turkey',\n",
    " 'https://ichgcp.net/cro-list/country/ukraine',\n",
    " 'https://ichgcp.net/cro-list/country/united_arab_emirates',\n",
    " 'https://ichgcp.net/cro-list/country/uruguay',\n",
    " 'https://ichgcp.net/cro-list/country/usa']"
   ]
  },
  {
   "cell_type": "code",
   "execution_count": 67,
   "metadata": {},
   "outputs": [
    {
     "data": {
      "text/plain": [
       "'https://ichgcp.net/cro-list/country/india'"
      ]
     },
     "execution_count": 67,
     "metadata": {},
     "output_type": "execute_result"
    }
   ],
   "source": [
    "urlss[23]"
   ]
  },
  {
   "cell_type": "code",
   "execution_count": 69,
   "metadata": {},
   "outputs": [],
   "source": [
    "req = Request(urlss[23], headers={'User-Agent': 'Mozilla/5.0'})"
   ]
  },
  {
   "cell_type": "code",
   "execution_count": 70,
   "metadata": {},
   "outputs": [],
   "source": [
    "page_html = urlopen(req).read()\n",
    "page_soup = soup(page_html, \"html.parser\")"
   ]
  },
  {
   "cell_type": "code",
   "execution_count": 72,
   "metadata": {},
   "outputs": [
    {
     "data": {
      "text/plain": [
       "'https://ichgcp.net/cro-list/country/india/page/11'"
      ]
     },
     "execution_count": 72,
     "metadata": {},
     "output_type": "execute_result"
    }
   ],
   "source": [
    "page_soup.findAll(\"li\",{\"class\":\"link\"})[0].a['href']"
   ]
  },
  {
   "cell_type": "code",
   "execution_count": 73,
   "metadata": {},
   "outputs": [
    {
     "ename": "URLError",
     "evalue": "<urlopen error [Errno 2] No such file or directory>",
     "output_type": "error",
     "traceback": [
      "\u001b[1;31m---------------------------------------------------------------------------\u001b[0m",
      "\u001b[1;31mFileNotFoundError\u001b[0m                         Traceback (most recent call last)",
      "\u001b[1;32mC:\\Apps\\Anaconda3\\lib\\urllib\\request.py\u001b[0m in \u001b[0;36mdo_open\u001b[1;34m(self, http_class, req, **http_conn_args)\u001b[0m\n\u001b[0;32m   1316\u001b[0m                 h.request(req.get_method(), req.selector, req.data, headers,\n\u001b[1;32m-> 1317\u001b[1;33m                           encode_chunked=req.has_header('Transfer-encoding'))\n\u001b[0m\u001b[0;32m   1318\u001b[0m             \u001b[1;32mexcept\u001b[0m \u001b[0mOSError\u001b[0m \u001b[1;32mas\u001b[0m \u001b[0merr\u001b[0m\u001b[1;33m:\u001b[0m \u001b[1;31m# timeout error\u001b[0m\u001b[1;33m\u001b[0m\u001b[1;33m\u001b[0m\u001b[0m\n",
      "\u001b[1;32mC:\\Apps\\Anaconda3\\lib\\http\\client.py\u001b[0m in \u001b[0;36mrequest\u001b[1;34m(self, method, url, body, headers, encode_chunked)\u001b[0m\n\u001b[0;32m   1243\u001b[0m         \u001b[1;34m\"\"\"Send a complete request to the server.\"\"\"\u001b[0m\u001b[1;33m\u001b[0m\u001b[1;33m\u001b[0m\u001b[0m\n\u001b[1;32m-> 1244\u001b[1;33m         \u001b[0mself\u001b[0m\u001b[1;33m.\u001b[0m\u001b[0m_send_request\u001b[0m\u001b[1;33m(\u001b[0m\u001b[0mmethod\u001b[0m\u001b[1;33m,\u001b[0m \u001b[0murl\u001b[0m\u001b[1;33m,\u001b[0m \u001b[0mbody\u001b[0m\u001b[1;33m,\u001b[0m \u001b[0mheaders\u001b[0m\u001b[1;33m,\u001b[0m \u001b[0mencode_chunked\u001b[0m\u001b[1;33m)\u001b[0m\u001b[1;33m\u001b[0m\u001b[1;33m\u001b[0m\u001b[0m\n\u001b[0m\u001b[0;32m   1245\u001b[0m \u001b[1;33m\u001b[0m\u001b[0m\n",
      "\u001b[1;32mC:\\Apps\\Anaconda3\\lib\\http\\client.py\u001b[0m in \u001b[0;36m_send_request\u001b[1;34m(self, method, url, body, headers, encode_chunked)\u001b[0m\n\u001b[0;32m   1289\u001b[0m             \u001b[0mbody\u001b[0m \u001b[1;33m=\u001b[0m \u001b[0m_encode\u001b[0m\u001b[1;33m(\u001b[0m\u001b[0mbody\u001b[0m\u001b[1;33m,\u001b[0m \u001b[1;34m'body'\u001b[0m\u001b[1;33m)\u001b[0m\u001b[1;33m\u001b[0m\u001b[1;33m\u001b[0m\u001b[0m\n\u001b[1;32m-> 1290\u001b[1;33m         \u001b[0mself\u001b[0m\u001b[1;33m.\u001b[0m\u001b[0mendheaders\u001b[0m\u001b[1;33m(\u001b[0m\u001b[0mbody\u001b[0m\u001b[1;33m,\u001b[0m \u001b[0mencode_chunked\u001b[0m\u001b[1;33m=\u001b[0m\u001b[0mencode_chunked\u001b[0m\u001b[1;33m)\u001b[0m\u001b[1;33m\u001b[0m\u001b[1;33m\u001b[0m\u001b[0m\n\u001b[0m\u001b[0;32m   1291\u001b[0m \u001b[1;33m\u001b[0m\u001b[0m\n",
      "\u001b[1;32mC:\\Apps\\Anaconda3\\lib\\http\\client.py\u001b[0m in \u001b[0;36mendheaders\u001b[1;34m(self, message_body, encode_chunked)\u001b[0m\n\u001b[0;32m   1238\u001b[0m             \u001b[1;32mraise\u001b[0m \u001b[0mCannotSendHeader\u001b[0m\u001b[1;33m(\u001b[0m\u001b[1;33m)\u001b[0m\u001b[1;33m\u001b[0m\u001b[1;33m\u001b[0m\u001b[0m\n\u001b[1;32m-> 1239\u001b[1;33m         \u001b[0mself\u001b[0m\u001b[1;33m.\u001b[0m\u001b[0m_send_output\u001b[0m\u001b[1;33m(\u001b[0m\u001b[0mmessage_body\u001b[0m\u001b[1;33m,\u001b[0m \u001b[0mencode_chunked\u001b[0m\u001b[1;33m=\u001b[0m\u001b[0mencode_chunked\u001b[0m\u001b[1;33m)\u001b[0m\u001b[1;33m\u001b[0m\u001b[1;33m\u001b[0m\u001b[0m\n\u001b[0m\u001b[0;32m   1240\u001b[0m \u001b[1;33m\u001b[0m\u001b[0m\n",
      "\u001b[1;32mC:\\Apps\\Anaconda3\\lib\\http\\client.py\u001b[0m in \u001b[0;36m_send_output\u001b[1;34m(self, message_body, encode_chunked)\u001b[0m\n\u001b[0;32m   1025\u001b[0m         \u001b[1;32mdel\u001b[0m \u001b[0mself\u001b[0m\u001b[1;33m.\u001b[0m\u001b[0m_buffer\u001b[0m\u001b[1;33m[\u001b[0m\u001b[1;33m:\u001b[0m\u001b[1;33m]\u001b[0m\u001b[1;33m\u001b[0m\u001b[1;33m\u001b[0m\u001b[0m\n\u001b[1;32m-> 1026\u001b[1;33m         \u001b[0mself\u001b[0m\u001b[1;33m.\u001b[0m\u001b[0msend\u001b[0m\u001b[1;33m(\u001b[0m\u001b[0mmsg\u001b[0m\u001b[1;33m)\u001b[0m\u001b[1;33m\u001b[0m\u001b[1;33m\u001b[0m\u001b[0m\n\u001b[0m\u001b[0;32m   1027\u001b[0m \u001b[1;33m\u001b[0m\u001b[0m\n",
      "\u001b[1;32mC:\\Apps\\Anaconda3\\lib\\http\\client.py\u001b[0m in \u001b[0;36msend\u001b[1;34m(self, data)\u001b[0m\n\u001b[0;32m    965\u001b[0m             \u001b[1;32mif\u001b[0m \u001b[0mself\u001b[0m\u001b[1;33m.\u001b[0m\u001b[0mauto_open\u001b[0m\u001b[1;33m:\u001b[0m\u001b[1;33m\u001b[0m\u001b[1;33m\u001b[0m\u001b[0m\n\u001b[1;32m--> 966\u001b[1;33m                 \u001b[0mself\u001b[0m\u001b[1;33m.\u001b[0m\u001b[0mconnect\u001b[0m\u001b[1;33m(\u001b[0m\u001b[1;33m)\u001b[0m\u001b[1;33m\u001b[0m\u001b[1;33m\u001b[0m\u001b[0m\n\u001b[0m\u001b[0;32m    967\u001b[0m             \u001b[1;32melse\u001b[0m\u001b[1;33m:\u001b[0m\u001b[1;33m\u001b[0m\u001b[1;33m\u001b[0m\u001b[0m\n",
      "\u001b[1;32mC:\\Apps\\Anaconda3\\lib\\http\\client.py\u001b[0m in \u001b[0;36mconnect\u001b[1;34m(self)\u001b[0m\n\u001b[0;32m   1413\u001b[0m             self.sock = self._context.wrap_socket(self.sock,\n\u001b[1;32m-> 1414\u001b[1;33m                                                   server_hostname=server_hostname)\n\u001b[0m\u001b[0;32m   1415\u001b[0m \u001b[1;33m\u001b[0m\u001b[0m\n",
      "\u001b[1;32mC:\\Apps\\Anaconda3\\lib\\ssl.py\u001b[0m in \u001b[0;36mwrap_socket\u001b[1;34m(self, sock, server_side, do_handshake_on_connect, suppress_ragged_eofs, server_hostname, session)\u001b[0m\n\u001b[0;32m    422\u001b[0m             \u001b[0mcontext\u001b[0m\u001b[1;33m=\u001b[0m\u001b[0mself\u001b[0m\u001b[1;33m,\u001b[0m\u001b[1;33m\u001b[0m\u001b[1;33m\u001b[0m\u001b[0m\n\u001b[1;32m--> 423\u001b[1;33m             \u001b[0msession\u001b[0m\u001b[1;33m=\u001b[0m\u001b[0msession\u001b[0m\u001b[1;33m\u001b[0m\u001b[1;33m\u001b[0m\u001b[0m\n\u001b[0m\u001b[0;32m    424\u001b[0m         )\n",
      "\u001b[1;32mC:\\Apps\\Anaconda3\\lib\\ssl.py\u001b[0m in \u001b[0;36m_create\u001b[1;34m(cls, sock, server_side, do_handshake_on_connect, suppress_ragged_eofs, server_hostname, context, session)\u001b[0m\n\u001b[0;32m    869\u001b[0m                         \u001b[1;32mraise\u001b[0m \u001b[0mValueError\u001b[0m\u001b[1;33m(\u001b[0m\u001b[1;34m\"do_handshake_on_connect should not be specified for non-blocking sockets\"\u001b[0m\u001b[1;33m)\u001b[0m\u001b[1;33m\u001b[0m\u001b[1;33m\u001b[0m\u001b[0m\n\u001b[1;32m--> 870\u001b[1;33m                     \u001b[0mself\u001b[0m\u001b[1;33m.\u001b[0m\u001b[0mdo_handshake\u001b[0m\u001b[1;33m(\u001b[0m\u001b[1;33m)\u001b[0m\u001b[1;33m\u001b[0m\u001b[1;33m\u001b[0m\u001b[0m\n\u001b[0m\u001b[0;32m    871\u001b[0m             \u001b[1;32mexcept\u001b[0m \u001b[1;33m(\u001b[0m\u001b[0mOSError\u001b[0m\u001b[1;33m,\u001b[0m \u001b[0mValueError\u001b[0m\u001b[1;33m)\u001b[0m\u001b[1;33m:\u001b[0m\u001b[1;33m\u001b[0m\u001b[1;33m\u001b[0m\u001b[0m\n",
      "\u001b[1;32mC:\\Apps\\Anaconda3\\lib\\ssl.py\u001b[0m in \u001b[0;36mdo_handshake\u001b[1;34m(self, block)\u001b[0m\n\u001b[0;32m   1138\u001b[0m                 \u001b[0mself\u001b[0m\u001b[1;33m.\u001b[0m\u001b[0msettimeout\u001b[0m\u001b[1;33m(\u001b[0m\u001b[1;32mNone\u001b[0m\u001b[1;33m)\u001b[0m\u001b[1;33m\u001b[0m\u001b[1;33m\u001b[0m\u001b[0m\n\u001b[1;32m-> 1139\u001b[1;33m             \u001b[0mself\u001b[0m\u001b[1;33m.\u001b[0m\u001b[0m_sslobj\u001b[0m\u001b[1;33m.\u001b[0m\u001b[0mdo_handshake\u001b[0m\u001b[1;33m(\u001b[0m\u001b[1;33m)\u001b[0m\u001b[1;33m\u001b[0m\u001b[1;33m\u001b[0m\u001b[0m\n\u001b[0m\u001b[0;32m   1140\u001b[0m         \u001b[1;32mfinally\u001b[0m\u001b[1;33m:\u001b[0m\u001b[1;33m\u001b[0m\u001b[1;33m\u001b[0m\u001b[0m\n",
      "\u001b[1;31mFileNotFoundError\u001b[0m: [Errno 2] No such file or directory",
      "\nDuring handling of the above exception, another exception occurred:\n",
      "\u001b[1;31mURLError\u001b[0m                                  Traceback (most recent call last)",
      "\u001b[1;32m<ipython-input-73-d942ceee08b3>\u001b[0m in \u001b[0;36m<module>\u001b[1;34m\u001b[0m\n\u001b[0;32m      2\u001b[0m \u001b[1;32mfor\u001b[0m \u001b[0murl\u001b[0m \u001b[1;32min\u001b[0m \u001b[0murlss\u001b[0m\u001b[1;33m:\u001b[0m\u001b[1;33m\u001b[0m\u001b[1;33m\u001b[0m\u001b[0m\n\u001b[0;32m      3\u001b[0m     \u001b[0mreq\u001b[0m \u001b[1;33m=\u001b[0m \u001b[0mRequest\u001b[0m\u001b[1;33m(\u001b[0m\u001b[0murl\u001b[0m\u001b[1;33m,\u001b[0m \u001b[0mheaders\u001b[0m\u001b[1;33m=\u001b[0m\u001b[1;33m{\u001b[0m\u001b[1;34m'User-Agent'\u001b[0m\u001b[1;33m:\u001b[0m \u001b[1;34m'Mozilla/5.0'\u001b[0m\u001b[1;33m}\u001b[0m\u001b[1;33m)\u001b[0m\u001b[1;33m\u001b[0m\u001b[1;33m\u001b[0m\u001b[0m\n\u001b[1;32m----> 4\u001b[1;33m     \u001b[0mpage_html\u001b[0m \u001b[1;33m=\u001b[0m \u001b[0murlopen\u001b[0m\u001b[1;33m(\u001b[0m\u001b[0mreq\u001b[0m\u001b[1;33m)\u001b[0m\u001b[1;33m.\u001b[0m\u001b[0mread\u001b[0m\u001b[1;33m(\u001b[0m\u001b[1;33m)\u001b[0m\u001b[1;33m\u001b[0m\u001b[1;33m\u001b[0m\u001b[0m\n\u001b[0m\u001b[0;32m      5\u001b[0m     \u001b[0mpage_soup\u001b[0m \u001b[1;33m=\u001b[0m \u001b[0msoup\u001b[0m\u001b[1;33m(\u001b[0m\u001b[0mpage_html\u001b[0m\u001b[1;33m,\u001b[0m \u001b[1;34m\"html.parser\"\u001b[0m\u001b[1;33m)\u001b[0m\u001b[1;33m\u001b[0m\u001b[1;33m\u001b[0m\u001b[0m\n\u001b[0;32m      6\u001b[0m     \u001b[0mitems\u001b[0m \u001b[1;33m=\u001b[0m \u001b[0mpage_soup\u001b[0m\u001b[1;33m.\u001b[0m\u001b[0mfindAll\u001b[0m\u001b[1;33m(\u001b[0m\u001b[1;34m\"li\"\u001b[0m\u001b[1;33m,\u001b[0m\u001b[1;33m{\u001b[0m\u001b[1;34m\"class\"\u001b[0m\u001b[1;33m:\u001b[0m\u001b[1;34m\"link\"\u001b[0m\u001b[1;33m}\u001b[0m\u001b[1;33m)\u001b[0m\u001b[1;33m\u001b[0m\u001b[1;33m\u001b[0m\u001b[0m\n",
      "\u001b[1;32mC:\\Apps\\Anaconda3\\lib\\urllib\\request.py\u001b[0m in \u001b[0;36murlopen\u001b[1;34m(url, data, timeout, cafile, capath, cadefault, context)\u001b[0m\n\u001b[0;32m    220\u001b[0m     \u001b[1;32melse\u001b[0m\u001b[1;33m:\u001b[0m\u001b[1;33m\u001b[0m\u001b[1;33m\u001b[0m\u001b[0m\n\u001b[0;32m    221\u001b[0m         \u001b[0mopener\u001b[0m \u001b[1;33m=\u001b[0m \u001b[0m_opener\u001b[0m\u001b[1;33m\u001b[0m\u001b[1;33m\u001b[0m\u001b[0m\n\u001b[1;32m--> 222\u001b[1;33m     \u001b[1;32mreturn\u001b[0m \u001b[0mopener\u001b[0m\u001b[1;33m.\u001b[0m\u001b[0mopen\u001b[0m\u001b[1;33m(\u001b[0m\u001b[0murl\u001b[0m\u001b[1;33m,\u001b[0m \u001b[0mdata\u001b[0m\u001b[1;33m,\u001b[0m \u001b[0mtimeout\u001b[0m\u001b[1;33m)\u001b[0m\u001b[1;33m\u001b[0m\u001b[1;33m\u001b[0m\u001b[0m\n\u001b[0m\u001b[0;32m    223\u001b[0m \u001b[1;33m\u001b[0m\u001b[0m\n\u001b[0;32m    224\u001b[0m \u001b[1;32mdef\u001b[0m \u001b[0minstall_opener\u001b[0m\u001b[1;33m(\u001b[0m\u001b[0mopener\u001b[0m\u001b[1;33m)\u001b[0m\u001b[1;33m:\u001b[0m\u001b[1;33m\u001b[0m\u001b[1;33m\u001b[0m\u001b[0m\n",
      "\u001b[1;32mC:\\Apps\\Anaconda3\\lib\\urllib\\request.py\u001b[0m in \u001b[0;36mopen\u001b[1;34m(self, fullurl, data, timeout)\u001b[0m\n\u001b[0;32m    523\u001b[0m             \u001b[0mreq\u001b[0m \u001b[1;33m=\u001b[0m \u001b[0mmeth\u001b[0m\u001b[1;33m(\u001b[0m\u001b[0mreq\u001b[0m\u001b[1;33m)\u001b[0m\u001b[1;33m\u001b[0m\u001b[1;33m\u001b[0m\u001b[0m\n\u001b[0;32m    524\u001b[0m \u001b[1;33m\u001b[0m\u001b[0m\n\u001b[1;32m--> 525\u001b[1;33m         \u001b[0mresponse\u001b[0m \u001b[1;33m=\u001b[0m \u001b[0mself\u001b[0m\u001b[1;33m.\u001b[0m\u001b[0m_open\u001b[0m\u001b[1;33m(\u001b[0m\u001b[0mreq\u001b[0m\u001b[1;33m,\u001b[0m \u001b[0mdata\u001b[0m\u001b[1;33m)\u001b[0m\u001b[1;33m\u001b[0m\u001b[1;33m\u001b[0m\u001b[0m\n\u001b[0m\u001b[0;32m    526\u001b[0m \u001b[1;33m\u001b[0m\u001b[0m\n\u001b[0;32m    527\u001b[0m         \u001b[1;31m# post-process response\u001b[0m\u001b[1;33m\u001b[0m\u001b[1;33m\u001b[0m\u001b[1;33m\u001b[0m\u001b[0m\n",
      "\u001b[1;32mC:\\Apps\\Anaconda3\\lib\\urllib\\request.py\u001b[0m in \u001b[0;36m_open\u001b[1;34m(self, req, data)\u001b[0m\n\u001b[0;32m    541\u001b[0m         \u001b[0mprotocol\u001b[0m \u001b[1;33m=\u001b[0m \u001b[0mreq\u001b[0m\u001b[1;33m.\u001b[0m\u001b[0mtype\u001b[0m\u001b[1;33m\u001b[0m\u001b[1;33m\u001b[0m\u001b[0m\n\u001b[0;32m    542\u001b[0m         result = self._call_chain(self.handle_open, protocol, protocol +\n\u001b[1;32m--> 543\u001b[1;33m                                   '_open', req)\n\u001b[0m\u001b[0;32m    544\u001b[0m         \u001b[1;32mif\u001b[0m \u001b[0mresult\u001b[0m\u001b[1;33m:\u001b[0m\u001b[1;33m\u001b[0m\u001b[1;33m\u001b[0m\u001b[0m\n\u001b[0;32m    545\u001b[0m             \u001b[1;32mreturn\u001b[0m \u001b[0mresult\u001b[0m\u001b[1;33m\u001b[0m\u001b[1;33m\u001b[0m\u001b[0m\n",
      "\u001b[1;32mC:\\Apps\\Anaconda3\\lib\\urllib\\request.py\u001b[0m in \u001b[0;36m_call_chain\u001b[1;34m(self, chain, kind, meth_name, *args)\u001b[0m\n\u001b[0;32m    501\u001b[0m         \u001b[1;32mfor\u001b[0m \u001b[0mhandler\u001b[0m \u001b[1;32min\u001b[0m \u001b[0mhandlers\u001b[0m\u001b[1;33m:\u001b[0m\u001b[1;33m\u001b[0m\u001b[1;33m\u001b[0m\u001b[0m\n\u001b[0;32m    502\u001b[0m             \u001b[0mfunc\u001b[0m \u001b[1;33m=\u001b[0m \u001b[0mgetattr\u001b[0m\u001b[1;33m(\u001b[0m\u001b[0mhandler\u001b[0m\u001b[1;33m,\u001b[0m \u001b[0mmeth_name\u001b[0m\u001b[1;33m)\u001b[0m\u001b[1;33m\u001b[0m\u001b[1;33m\u001b[0m\u001b[0m\n\u001b[1;32m--> 503\u001b[1;33m             \u001b[0mresult\u001b[0m \u001b[1;33m=\u001b[0m \u001b[0mfunc\u001b[0m\u001b[1;33m(\u001b[0m\u001b[1;33m*\u001b[0m\u001b[0margs\u001b[0m\u001b[1;33m)\u001b[0m\u001b[1;33m\u001b[0m\u001b[1;33m\u001b[0m\u001b[0m\n\u001b[0m\u001b[0;32m    504\u001b[0m             \u001b[1;32mif\u001b[0m \u001b[0mresult\u001b[0m \u001b[1;32mis\u001b[0m \u001b[1;32mnot\u001b[0m \u001b[1;32mNone\u001b[0m\u001b[1;33m:\u001b[0m\u001b[1;33m\u001b[0m\u001b[1;33m\u001b[0m\u001b[0m\n\u001b[0;32m    505\u001b[0m                 \u001b[1;32mreturn\u001b[0m \u001b[0mresult\u001b[0m\u001b[1;33m\u001b[0m\u001b[1;33m\u001b[0m\u001b[0m\n",
      "\u001b[1;32mC:\\Apps\\Anaconda3\\lib\\urllib\\request.py\u001b[0m in \u001b[0;36mhttps_open\u001b[1;34m(self, req)\u001b[0m\n\u001b[0;32m   1358\u001b[0m         \u001b[1;32mdef\u001b[0m \u001b[0mhttps_open\u001b[0m\u001b[1;33m(\u001b[0m\u001b[0mself\u001b[0m\u001b[1;33m,\u001b[0m \u001b[0mreq\u001b[0m\u001b[1;33m)\u001b[0m\u001b[1;33m:\u001b[0m\u001b[1;33m\u001b[0m\u001b[1;33m\u001b[0m\u001b[0m\n\u001b[0;32m   1359\u001b[0m             return self.do_open(http.client.HTTPSConnection, req,\n\u001b[1;32m-> 1360\u001b[1;33m                 context=self._context, check_hostname=self._check_hostname)\n\u001b[0m\u001b[0;32m   1361\u001b[0m \u001b[1;33m\u001b[0m\u001b[0m\n\u001b[0;32m   1362\u001b[0m         \u001b[0mhttps_request\u001b[0m \u001b[1;33m=\u001b[0m \u001b[0mAbstractHTTPHandler\u001b[0m\u001b[1;33m.\u001b[0m\u001b[0mdo_request_\u001b[0m\u001b[1;33m\u001b[0m\u001b[1;33m\u001b[0m\u001b[0m\n",
      "\u001b[1;32mC:\\Apps\\Anaconda3\\lib\\urllib\\request.py\u001b[0m in \u001b[0;36mdo_open\u001b[1;34m(self, http_class, req, **http_conn_args)\u001b[0m\n\u001b[0;32m   1317\u001b[0m                           encode_chunked=req.has_header('Transfer-encoding'))\n\u001b[0;32m   1318\u001b[0m             \u001b[1;32mexcept\u001b[0m \u001b[0mOSError\u001b[0m \u001b[1;32mas\u001b[0m \u001b[0merr\u001b[0m\u001b[1;33m:\u001b[0m \u001b[1;31m# timeout error\u001b[0m\u001b[1;33m\u001b[0m\u001b[1;33m\u001b[0m\u001b[0m\n\u001b[1;32m-> 1319\u001b[1;33m                 \u001b[1;32mraise\u001b[0m \u001b[0mURLError\u001b[0m\u001b[1;33m(\u001b[0m\u001b[0merr\u001b[0m\u001b[1;33m)\u001b[0m\u001b[1;33m\u001b[0m\u001b[1;33m\u001b[0m\u001b[0m\n\u001b[0m\u001b[0;32m   1320\u001b[0m             \u001b[0mr\u001b[0m \u001b[1;33m=\u001b[0m \u001b[0mh\u001b[0m\u001b[1;33m.\u001b[0m\u001b[0mgetresponse\u001b[0m\u001b[1;33m(\u001b[0m\u001b[1;33m)\u001b[0m\u001b[1;33m\u001b[0m\u001b[1;33m\u001b[0m\u001b[0m\n\u001b[0;32m   1321\u001b[0m         \u001b[1;32mexcept\u001b[0m\u001b[1;33m:\u001b[0m\u001b[1;33m\u001b[0m\u001b[1;33m\u001b[0m\u001b[0m\n",
      "\u001b[1;31mURLError\u001b[0m: <urlopen error [Errno 2] No such file or directory>"
     ]
    }
   ],
   "source": [
    "result = []\n",
    "for url in urlss:\n",
    "    req = Request(url, headers={'User-Agent': 'Mozilla/5.0'})\n",
    "    page_html = urlopen(req).read()\n",
    "    page_soup = soup(page_html, \"html.parser\")\n",
    "    items = page_soup.findAll(\"li\",{\"class\":\"link\"})\n",
    "    for item in items:\n",
    "        print(item.a['href'])\n",
    "        result.append(item.a['href'])\n",
    "        "
   ]
  },
  {
   "cell_type": "code",
   "execution_count": 46,
   "metadata": {},
   "outputs": [
    {
     "data": {
      "text/plain": [
       "['https://ichgcp.net/cro-list/country/singapore/page/2',\n",
       " 'https://ichgcp.net/cro-list/country/spain/page/2',\n",
       " 'https://ichgcp.net/cro-list/country/sweden/page/2',\n",
       " 'https://ichgcp.net/cro-list/country/switzerland/page/2',\n",
       " 'https://ichgcp.net/cro-list/country/switzerland/page/3',\n",
       " 'https://ichgcp.net/cro-list/country/ukraine/page/2',\n",
       " 'https://ichgcp.net/cro-list/country/usa/page/2',\n",
       " 'https://ichgcp.net/cro-list/country/usa/page/3',\n",
       " 'https://ichgcp.net/cro-list/country/usa/page/4',\n",
       " 'https://ichgcp.net/cro-list/country/usa/page/2']"
      ]
     },
     "execution_count": 46,
     "metadata": {},
     "output_type": "execute_result"
    }
   ],
   "source": [
    "result"
   ]
  },
  {
   "cell_type": "code",
   "execution_count": 35,
   "metadata": {},
   "outputs": [
    {
     "data": {
      "text/plain": [
       "['https://ichgcp.net/cro-list/country/belgium/page/2',\n",
       " 'https://ichgcp.net/cro-list/country/belgium/page/3',\n",
       " 'https://ichgcp.net/cro-list/country/canada/page/2',\n",
       " 'https://ichgcp.net/cro-list/country/canada/page/3',\n",
       " 'https://ichgcp.net/cro-list/country/canada/page/4',\n",
       " 'https://ichgcp.net/cro-list/country/canada/page/2',\n",
       " 'https://ichgcp.net/cro-list/country/china/page/2',\n",
       " 'https://ichgcp.net/cro-list/country/china/page/3',\n",
       " 'https://ichgcp.net/cro-list/country/france/page/2',\n",
       " 'https://ichgcp.net/cro-list/country/france/page/3',\n",
       " 'https://ichgcp.net/cro-list/country/france/page/4',\n",
       " 'https://ichgcp.net/cro-list/country/germany/page/2',\n",
       " 'https://ichgcp.net/cro-list/country/germany/page/3',\n",
       " 'https://ichgcp.net/cro-list/country/germany/page/4',\n",
       " 'https://ichgcp.net/cro-list/country/germany/page/2',\n",
       " 'https://ichgcp.net/cro-list/country/hungary/page/2',\n",
       " 'https://ichgcp.net/cro-list/country/india/page/2',\n",
       " 'https://ichgcp.net/cro-list/country/india/page/3',\n",
       " 'https://ichgcp.net/cro-list/country/india/page/4',\n",
       " 'https://ichgcp.net/cro-list/country/india/page/2']"
      ]
     },
     "execution_count": 35,
     "metadata": {},
     "output_type": "execute_result"
    }
   ],
   "source": [
    "results = ['https://ichgcp.net/cro-list/country/belgium/page/2',\n",
    " 'https://ichgcp.net/cro-list/country/belgium/page/3',\n",
    " 'https://ichgcp.net/cro-list/country/canada/page/2',\n",
    " 'https://ichgcp.net/cro-list/country/canada/page/3',\n",
    " 'https://ichgcp.net/cro-list/country/canada/page/4',\n",
    " 'https://ichgcp.net/cro-list/country/canada/page/5',\n",
    " 'https://ichgcp.net/cro-list/country/china/page/2',\n",
    " 'https://ichgcp.net/cro-list/country/china/page/3',\n",
    " 'https://ichgcp.net/cro-list/country/france/page/2',\n",
    " 'https://ichgcp.net/cro-list/country/france/page/3',\n",
    " 'https://ichgcp.net/cro-list/country/france/page/4',\n",
    " 'https://ichgcp.net/cro-list/country/germany/page/2',\n",
    " 'https://ichgcp.net/cro-list/country/germany/page/3',\n",
    " 'https://ichgcp.net/cro-list/country/germany/page/4',\n",
    " 'https://ichgcp.net/cro-list/country/germany/page/5',\n",
    " 'https://ichgcp.net/cro-list/country/germany/page/6',\n",
    " 'https://ichgcp.net/cro-list/country/germany/page/7',\n",
    " 'https://ichgcp.net/cro-list/country/hungary/page/2',\n",
    " 'https://ichgcp.net/cro-list/country/india/page/2',\n",
    " 'https://ichgcp.net/cro-list/country/india/page/3',\n",
    " 'https://ichgcp.net/cro-list/country/india/page/4',\n",
    " 'https://ichgcp.net/cro-list/country/india/page/5',\n",
    " 'https://ichgcp.net/cro-list/country/india/page/6',\n",
    " 'https://ichgcp.net/cro-list/country/india/page/7',\n",
    " 'https://ichgcp.net/cro-list/country/india/page/8',\n",
    " 'https://ichgcp.net/cro-list/country/india/page/9',\n",
    " 'https://ichgcp.net/cro-list/country/india/page/10',\n",
    " 'https://ichgcp.net/cro-list/country/india/page/11',\n",
    " 'https://ichgcp.net/cro-list/country/italy/page/2',\n",
    " 'https://ichgcp.net/cro-list/country/japan/page/2',\n",
    " 'https://ichgcp.net/cro-list/country/japan/page/3',\n",
    " 'https://ichgcp.net/cro-list/country/japan/page/4',\n",
    " 'https://ichgcp.net/cro-list/country/netherlands/page/2',\n",
    " 'https://ichgcp.net/cro-list/country/poland/page/2',\n",
    " 'https://ichgcp.net/cro-list/country/romania/page/2',\n",
    " 'https://ichgcp.net/cro-list/country/russia/page/2',\n",
    " 'https://ichgcp.net/cro-list/country/russia/page/3',\n",
    " 'https://ichgcp.net/cro-list/country/singapore/page/2',\n",
    " 'https://ichgcp.net/cro-list/country/spain/page/2',\n",
    " 'https://ichgcp.net/cro-list/country/sweden/page/2',\n",
    " 'https://ichgcp.net/cro-list/country/switzerland/page/2',\n",
    " 'https://ichgcp.net/cro-list/country/switzerland/page/3',\n",
    " 'https://ichgcp.net/cro-list/country/ukraine/page/2',\n",
    " 'https://ichgcp.net/cro-list/country/usa/page/2',\n",
    " 'https://ichgcp.net/cro-list/country/usa/page/3',\n",
    " 'https://ichgcp.net/cro-list/country/usa/page/4',\n",
    " 'https://ichgcp.net/cro-list/country/usa/page/5',\n",
    " 'https://ichgcp.net/cro-list/country/usa/page/6',\n",
    " 'https://ichgcp.net/cro-list/country/usa/page/7',\n",
    " 'https://ichgcp.net/cro-list/country/usa/page/8',\n",
    " 'https://ichgcp.net/cro-list/country/usa/page/9',\n",
    " 'https://ichgcp.net/cro-list/country/usa/page/10',\n",
    " 'https://ichgcp.net/cro-list/country/usa/page/11',\n",
    " 'https://ichgcp.net/cro-list/country/usa/page/12',\n",
    " 'https://ichgcp.net/cro-list/country/usa/page/13',\n",
    " 'https://ichgcp.net/cro-list/country/usa/page/14',\n",
    " 'https://ichgcp.net/cro-list/country/usa/page/15',\n",
    " 'https://ichgcp.net/cro-list/country/usa/page/16',\n",
    " 'https://ichgcp.net/cro-list/country/usa/page/17',\n",
    " 'https://ichgcp.net/cro-list/country/usa/page/18',\n",
    " 'https://ichgcp.net/cro-list/country/usa/page/19',\n",
    " 'https://ichgcp.net/cro-list/country/usa/page/20',\n",
    " 'https://ichgcp.net/cro-list/country/usa/page/21',\n",
    " 'https://ichgcp.net/cro-list/country/usa/page/22',\n",
    " 'https://ichgcp.net/cro-list/country/usa/page/23',\n",
    " 'https://ichgcp.net/cro-list/country/usa/page/24',\n",
    " 'https://ichgcp.net/cro-list/country/usa/page/25',\n",
    " 'https://ichgcp.net/cro-list/country/usa/page/26',\n",
    " 'https://ichgcp.net/cro-list/country/usa/page/27',\n",
    " 'https://ichgcp.net/cro-list/country/usa/page/28',\n",
    " 'https://ichgcp.net/cro-list/country/usa/page/29',\n",
    " 'https://ichgcp.net/cro-list/country/usa/page/30',\n",
    " 'https://ichgcp.net/cro-list/country/usa/page/31',\n",
    " 'https://ichgcp.net/cro-list/country/usa/page/32',\n",
    " 'https://ichgcp.net/cro-list/country/usa/page/33',\n",
    " 'https://ichgcp.net/cro-list/country/usa/page/34',\n",
    " 'https://ichgcp.net/cro-list/country/usa/page/35',\n",
    " 'https://ichgcp.net/cro-list/country/usa/page/36',\n",
    " 'https://ichgcp.net/cro-list/country/usa/page/37',\n",
    " 'https://ichgcp.net/cro-list/country/usa/page/38',\n",
    " 'https://ichgcp.net/cro-list/country/usa/page/39',]"
   ]
  },
  {
   "cell_type": "code",
   "execution_count": 5,
   "metadata": {},
   "outputs": [],
   "source": [
    "from bs4 import BeautifulSoup as soup\n",
    "from urllib.request import Request, urlopen\n",
    "import csv"
   ]
  },
  {
   "cell_type": "code",
   "execution_count": null,
   "metadata": {},
   "outputs": [],
   "source": [
    "f = open('book4.csv', 'w')\n",
    "mycsv = csv.writer(f)\n",
    "mycsv.writerow(['country','name', 'description']) "
   ]
  },
  {
   "cell_type": "code",
   "execution_count": null,
   "metadata": {},
   "outputs": [],
   "source": [
    "for url in urls:\n",
    "    req = Request(url, headers={'User-Agent': 'Mozilla/5.0'})\n",
    "    page_html = urlopen(req).read()\n",
    "    page_soup = soup(page_html, \"html.parser\")\n",
    "    containers = page_soup.findAll(\"div\",{\"class\":\"top\"})\n",
    "    \n",
    "    \n",
    "    for container in containers:\n",
    "       newUrls.append(container.h1.a[\"href\"])"
   ]
  }
 ],
 "metadata": {
  "kernelspec": {
   "display_name": "Python 3",
   "language": "python",
   "name": "python3"
  },
  "language_info": {
   "codemirror_mode": {
    "name": "ipython",
    "version": 3
   },
   "file_extension": ".py",
   "mimetype": "text/x-python",
   "name": "python",
   "nbconvert_exporter": "python",
   "pygments_lexer": "ipython3",
   "version": "3.7.4"
  }
 },
 "nbformat": 4,
 "nbformat_minor": 2
}
